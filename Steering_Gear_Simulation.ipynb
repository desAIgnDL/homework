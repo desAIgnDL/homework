{
 "cells": [
  {
   "cell_type": "code",
   "execution_count": 1,
   "metadata": {},
   "outputs": [],
   "source": [
    "from __future__ import print_function\n",
    "from ipywidgets import interact, interactive, fixed, interact_manual\n",
    "import ipywidgets as widgets\n",
    "import numpy as np\n",
    "import matplotlib.pyplot as plt\n",
    "%matplotlib inline"
   ]
  },
  {
   "cell_type": "code",
   "execution_count": 2,
   "metadata": {},
   "outputs": [],
   "source": [
    "'''\n",
    "The next function gives us the vales of the angles fi, gamma, alfa, beta.\n",
    "Namely fi0, gam0, alf0, bet0.\n",
    "These equations are from the calculation.\n",
    "'''\n",
    "def ang(r1,r2,r3x,rOx,rOy):\n",
    "    display(np.arctan2(( r1**2 * r2 * rOy**2 - r2**3 * rOy**2 + (r3x + rOx) * (-r2**2 * rOy**2 * ((r1 - r2)**2 - (r3x + rOx)**2 - rOy**2) * ((r1 + r2)**2 - (r3x + rOx)**2 - rOy**2))**(1/2) + r2 * rOy**2 * ((r3x + rOx)**2 + rOy**2))/(r1 * r2 * rOy * ((r3x + rOx)**2 + rOy**2)),\n",
    "                       -((r2**3 * (r3x + rOx) - r2 * (r3x + rOx) * (r1**2 + (r3x + rOx)**2 + rOy**2) + (-r2**2 * rOy**2 * (r1**4 + (-r2**2 + (r3x + rOx)**2 + rOy**2)**2 - 2 * r1**2 * (r2**2 + (r3x + rOx)**2 + rOy**2)))**(1/2))/( r1 * r2 * ((r3x + rOx)**2 + rOy**2)))),\n",
    "            np.arctan2((-r1**2 * r2 * rOy**2 + r2**3 * rOy**2 - (r3x + rOx) * (-r2**2 * rOy**2 * ((r1 - r2)**2 - (r3x + rOx)**2 - rOy**2) * ((r1 + r2)**2 - (r3x + rOx)**2 - rOy**2))**(1/2) + r2 * rOy**2 * ((r3x + rOx)**2 + rOy**2))/(r2**2 * rOy * ((r3x + rOx)**2 + rOy**2)),\n",
    "                       (r2**3 * (r3x + rOx) + r2 * (r3x + rOx) * (-r1**2 + (r3x + rOx)**2 + rOy**2) + (-r2**2 * rOy**2 * (r1**4 + (-r2**2 + (r3x + rOx)**2 + rOy**2)**2 - 2 * r1**2 * (r2**2 + (r3x + rOx)**2 + rOy**2)))**(1/2))/(r2**2 * ((r3x + rOx)**2 + rOy**2))),\n",
    "            np.arctan2(( r1**3 * rOy**2 + (r3x - (rOx + 0) + 2*rOx) * (-r1**2 * rOy**2 * ((r1 - r2)**2 - rOy**2 - (r3x - (rOx + 0) + 2*rOx)**2) * ((r1 + r2)**2 - rOy**2 - (r3x - (rOx + 0) + 2*rOx)**2))**(1/2) + r1 * rOy**2 * (-r2**2 + rOy**2 + (r3x - (rOx + 0) + 2*rOx)**2))/(r1**2 * rOy * (rOy**2 + (r3x - (rOx + 0) + 2*rOx)**2)),\n",
    "                       (-(-r1**2 * rOy**2 * ((r1 - r2)**2 - rOy**2 - (r3x - (rOx + 0) + 2*rOx)**2) * ((r1 + r2)**2 - rOy**2 - (r3x - (rOx + 0) + 2*rOx)**2))**(1/2) + r1 * (r3x - (rOx + 0) + 2*rOx) * (r1**2 - r2**2 + rOy**2 + (r3x - (rOx + 0) + 2*rOx)**2))/(r1**2 * (rOy**2 + (r3x - (rOx + 0) + 2*rOx)**2))),\n",
    "            np.arctan2((-r1**3 * rOy**2 - (r3x - (rOx + 0) + 2*rOx) * (-r1**2 * rOy**2 * ((r1 - r2)**2 - rOy**2 - (r3x - (rOx + 0) + 2*rOx)**2) * ((r1 + r2)**2 - rOy**2 - (r3x - (rOx + 0) + 2*rOx)**2))**(1/2) + r1 * rOy**2 * (r2**2 + rOy**2 + (r3x - (rOx + 0) + 2*rOx)**2))/(r1 * r2 * rOy * (rOy**2 + (r3x - (rOx + 0) + 2*rOx)**2)),\n",
    "                       ((-r1**2 * rOy**2 * ((r1 - r2)**2 - rOy**2 - (r3x - (rOx + 0) + 2*rOx)**2) * ((r1 + r2)**2 - rOy**2 - (r3x - (rOx + 0) + 2*rOx)**2))**(1/2) + r1 * (r3x - (rOx + 0) + 2*rOx) * (-r1**2 + r2**2 + rOy**2 + (r3x - (rOx + 0) + 2*rOx)**2))/(r1 * r2 * (rOy**2 + (r3x - (rOx + 0) + 2*rOx)**2))))\n",
    "    return (np.arctan2(( r1**2 * r2 * rOy**2 - r2**3 * rOy**2 + (r3x + rOx) * (-r2**2 * rOy**2 * ((r1 - r2)**2 - (r3x + rOx)**2 - rOy**2) * ((r1 + r2)**2 - (r3x + rOx)**2 - rOy**2))**(1/2) + r2 * rOy**2 * ((r3x + rOx)**2 + rOy**2))/(r1 * r2 * rOy * ((r3x + rOx)**2 + rOy**2)),\n",
    "                       -((r2**3 * (r3x + rOx) - r2 * (r3x + rOx) * (r1**2 + (r3x + rOx)**2 + rOy**2) + (-r2**2 * rOy**2 * (r1**4 + (-r2**2 + (r3x + rOx)**2 + rOy**2)**2 - 2 * r1**2 * (r2**2 + (r3x + rOx)**2 + rOy**2)))**(1/2))/( r1 * r2 * ((r3x + rOx)**2 + rOy**2)))),\n",
    "            np.arctan2((-r1**2 * r2 * rOy**2 + r2**3 * rOy**2 - (r3x + rOx) * (-r2**2 * rOy**2 * ((r1 - r2)**2 - (r3x + rOx)**2 - rOy**2) * ((r1 + r2)**2 - (r3x + rOx)**2 - rOy**2))**(1/2) + r2 * rOy**2 * ((r3x + rOx)**2 + rOy**2))/(r2**2 * rOy * ((r3x + rOx)**2 + rOy**2)),\n",
    "                       (r2**3 * (r3x + rOx) + r2 * (r3x + rOx) * (-r1**2 + (r3x + rOx)**2 + rOy**2) + (-r2**2 * rOy**2 * (r1**4 + (-r2**2 + (r3x + rOx)**2 + rOy**2)**2 - 2 * r1**2 * (r2**2 + (r3x + rOx)**2 + rOy**2)))**(1/2))/(r2**2 * ((r3x + rOx)**2 + rOy**2))),\n",
    "            np.arctan2(( r1**3 * rOy**2 + (r3x - (rOx + 0) + 2*rOx) * (-r1**2 * rOy**2 * ((r1 - r2)**2 - rOy**2 - (r3x - (rOx + 0) + 2*rOx)**2) * ((r1 + r2)**2 - rOy**2 - (r3x - (rOx + 0) + 2*rOx)**2))**(1/2) + r1 * rOy**2 * (-r2**2 + rOy**2 + (r3x - (rOx + 0) + 2*rOx)**2))/(r1**2 * rOy * (rOy**2 + (r3x - (rOx + 0) + 2*rOx)**2)),\n",
    "                       (-(-r1**2 * rOy**2 * ((r1 - r2)**2 - rOy**2 - (r3x - (rOx + 0) + 2*rOx)**2) * ((r1 + r2)**2 - rOy**2 - (r3x - (rOx + 0) + 2*rOx)**2))**(1/2) + r1 * (r3x - (rOx + 0) + 2*rOx) * (r1**2 - r2**2 + rOy**2 + (r3x - (rOx + 0) + 2*rOx)**2))/(r1**2 * (rOy**2 + (r3x - (rOx + 0) + 2*rOx)**2))),\n",
    "            np.arctan2((-r1**3 * rOy**2 - (r3x - (rOx + 0) + 2*rOx) * (-r1**2 * rOy**2 * ((r1 - r2)**2 - rOy**2 - (r3x - (rOx + 0) + 2*rOx)**2) * ((r1 + r2)**2 - rOy**2 - (r3x - (rOx + 0) + 2*rOx)**2))**(1/2) + r1 * rOy**2 * (r2**2 + rOy**2 + (r3x - (rOx + 0) + 2*rOx)**2))/(r1 * r2 * rOy * (rOy**2 + (r3x - (rOx + 0) + 2*rOx)**2)),\n",
    "                       ((-r1**2 * rOy**2 * ((r1 - r2)**2 - rOy**2 - (r3x - (rOx + 0) + 2*rOx)**2) * ((r1 + r2)**2 - rOy**2 - (r3x - (rOx + 0) + 2*rOx)**2))**(1/2) + r1 * (r3x - (rOx + 0) + 2*rOx) * (-r1**2 + r2**2 + rOy**2 + (r3x - (rOx + 0) + 2*rOx)**2))/(r1 * r2 * (rOy**2 + (r3x - (rOx + 0) + 2*rOx)**2))))"
   ]
  },
  {
   "cell_type": "code",
   "execution_count": 3,
   "metadata": {},
   "outputs": [
    {
     "data": {
      "text/plain": [
       "'\\nYou can modify the lengths of the rods using these sliders\\nThan refresh the next cell to see the modified geometry.\\n'"
      ]
     },
     "execution_count": 3,
     "metadata": {},
     "output_type": "execute_result"
    }
   ],
   "source": [
    "'''\n",
    "You can modify the lengths of the rods using these sliders\n",
    "Than refresh the next cell to see the modified geometry.\n",
    "'''"
   ]
  },
  {
   "cell_type": "code",
   "execution_count": 4,
   "metadata": {
    "scrolled": true
   },
   "outputs": [
    {
     "data": {
      "application/vnd.jupyter.widget-view+json": {
       "model_id": "d40f0578aa8c4cdfbff6b5ddbf25922d",
       "version_major": 2,
       "version_minor": 0
      },
      "text/plain": [
       "interactive(children=(FloatSlider(value=6.0, description='r1', max=12.0, step=0.01), FloatSlider(value=8.0, de…"
      ]
     },
     "metadata": {},
     "output_type": "display_data"
    }
   ],
   "source": [
    "fgab = interactive(ang,r1=(0,12,0.01),r2=(0,16,0.01),r3x=(-24,0,0.01),rOx=(0,38,0.01),rOy=(0,22,0.01))\n",
    "display(fgab)"
   ]
  },
  {
   "cell_type": "code",
   "execution_count": 5,
   "metadata": {
    "scrolled": true
   },
   "outputs": [
    {
     "data": {
      "image/png": "[encoded data removed]",
      "text/plain": [
       "<Figure size 432x288 with 1 Axes>"
      ]
     },
     "metadata": {
      "needs_background": "light"
     },
     "output_type": "display_data"
    }
   ],
   "source": [
    "'''\n",
    "Plotting\n",
    "'''\n",
    "R1=fgab.kwargs[\"r1\"]\n",
    "R2=fgab.kwargs[\"r2\"]\n",
    "R3x=fgab.kwargs[\"r3x\"]\n",
    "ROx=fgab.kwargs[\"rOx\"]\n",
    "ROy=fgab.kwargs[\"rOy\"]\n",
    "fi0=fgab.result[0]\n",
    "gam0=fgab.result[1]\n",
    "alf0=fgab.result[2]\n",
    "bet0=fgab.result[3]\n",
    "plt.subplot(1,1,1)\n",
    "plt.plot([0,R1*np.cos(fi0),ROx+R3x,ROx],[0,R1*np.sin(fi0),ROy,ROy]);"
   ]
  },
  {
   "cell_type": "code",
   "execution_count": null,
   "metadata": {},
   "outputs": [],
   "source": []
  },
  {
   "cell_type": "code",
   "execution_count": 6,
   "metadata": {},
   "outputs": [],
   "source": [
    "'''\n",
    "The next function gives us the vales of the changes of the angles fi, gamma, alfa, beta.\n",
    "Namely delfi, delgam, delalf, delbet.\n",
    "These equations are the ones from above, but substracted by the corresponding angles.\n",
    "'''\n",
    "def delang(delROx):\n",
    "    display(np.arctan2((R1 ** 2*R2*ROy ** 2 - R2 ** 3*ROy ** 2 + (R3x + ROx + delROx)*(-R2 ** 2* ROy ** 2*((R1 - R2) ** 2 - (R3x + ROx + delROx) ** 2 - ROy ** 2)*((R1 + R2) ** 2 - (R3x + ROx + delROx) ** 2 - ROy ** 2)) ** (1/2) + R2*ROy ** 2*((R3x + ROx + delROx) ** 2 + ROy ** 2))/(R1*R2* ROy*((R3x + ROx + delROx) ** 2 + ROy ** 2)),\n",
    "                       -((R2 ** 3*(R3x + ROx + delROx) - R2*(R3x + ROx + delROx)*(R1 ** 2 + (R3x + ROx + delROx) ** 2 + ROy ** 2) + (-R2 ** 2* ROy ** 2*(R1 ** 4 + (-R2 ** 2 + (R3x + ROx + delROx) ** 2 + ROy ** 2) ** 2 - 2*R1 ** 2*(R2 ** 2 + (R3x + ROx + delROx) ** 2 + ROy ** 2))) ** (1/2))/(R1* R2*((R3x + ROx + delROx) ** 2 + ROy ** 2)))) - fi0,\n",
    "            np.arctan2 ((-R1 ** 2*R2*ROy ** 2 + R2 ** 3*ROy ** 2 - (R3x + ROx + delROx)*(-R2 ** 2* ROy ** 2*((R1 - R2) ** 2 - (R3x + ROx + delROx) ** 2 - ROy ** 2)*((R1 + R2) ** 2 - (R3x + ROx + delROx) ** 2 - ROy ** 2)) ** (1/2) + R2*ROy ** 2*((R3x + ROx + delROx) ** 2 + ROy ** 2))/(R2 ** 2* ROy*((R3x + ROx + delROx) ** 2 + ROy ** 2)),\n",
    "                        (R2 ** 3*(R3x + ROx + delROx) + R2*(R3x + ROx + delROx)*(-R1 ** 2 + (R3x + ROx + delROx) ** 2 + ROy ** 2) + (-R2 ** 2* ROy ** 2*(R1 ** 4 + (-R2 ** 2 + (R3x + ROx + delROx) ** 2 + ROy ** 2) ** 2 - 2*R1 ** 2*(R2 ** 2 + (R3x + ROx + delROx) ** 2 + ROy ** 2))) ** (1/2))/(R2 ** 2*((R3x + ROx + delROx) ** 2 + ROy ** 2))) - gam0,\n",
    "            np.arctan2(( R1**3 * ROy**2 + (R3x - (ROx + delROx) + 2*ROx) * (-R1**2 * ROy**2 * ((R1 - R2)**2 - ROy**2 - (R3x - (ROx + delROx) + 2*ROx)**2) * ((R1 + R2)**2 - ROy**2 - (R3x - (ROx + delROx) + 2*ROx)**2))**(1/2) + R1 * ROy**2 * (-R2**2 + ROy**2 + (R3x - (ROx + delROx) + 2*ROx)**2))/(R1**2 * ROy * (ROy**2 + (R3x - (ROx + delROx) + 2*ROx)**2)),\n",
    "                       (-(-R1**2 * ROy**2 * ((R1 - R2)**2 - ROy**2 - (R3x - (ROx + delROx) + 2*ROx)**2) * ((R1 + R2)**2 - ROy**2 - (R3x - (ROx + delROx) + 2*ROx)**2))**(1/2) + R1 * (R3x - (ROx + delROx) + 2*ROx) * (R1**2 - R2**2 + ROy**2 + (R3x - (ROx + delROx) + 2*ROx)**2))/(R1**2 * (ROy**2 + (R3x - (ROx + delROx) + 2*ROx)**2))) - alf0,\n",
    "            np.arctan2((-R1**3 * ROy**2 - (R3x - (ROx + delROx) + 2*ROx) * (-R1**2 * ROy**2 * ((R1 - R2)**2 - ROy**2 - (R3x - (ROx + delROx) + 2*ROx)**2) * ((R1 + R2)**2 - ROy**2 - (R3x - (ROx + delROx) + 2*ROx)**2))**(1/2) + R1 * ROy**2 * (R2**2 + ROy**2 + (R3x - (ROx + delROx) + 2*ROx)**2))/(R1 * R2 * ROy * (ROy**2 + (R3x - (ROx + delROx) + 2*ROx)**2)),\n",
    "                       ((-R1**2 * ROy**2 * ((R1 - R2)**2 - ROy**2 - (R3x - (ROx + delROx) + 2*ROx)**2) * ((R1 + R2)**2 - ROy**2 - (R3x - (ROx + delROx) + 2*ROx)**2))**(1/2) + R1 * (R3x - (ROx + delROx) + 2*ROx) * (-R1**2 + R2**2 + ROy**2 + (R3x - (ROx + delROx) + 2*ROx)**2))/(R1 * R2 * (ROy**2 + (R3x - (ROx + delROx) + 2*ROx)**2))) - bet0)\n",
    "    return ((np.arctan2((R1 ** 2*R2*ROy ** 2 - R2 ** 3*ROy ** 2 + (R3x + ROx + delROx)*(-R2 ** 2* ROy ** 2*((R1 - R2) ** 2 - (R3x + ROx + delROx) ** 2 - ROy ** 2)*((R1 + R2) ** 2 - (R3x + ROx + delROx) ** 2 - ROy ** 2)) ** (1/2) + R2*ROy ** 2*((R3x + ROx + delROx) ** 2 + ROy ** 2))/(R1*R2* ROy*((R3x + ROx + delROx) ** 2 + ROy ** 2)),\n",
    "                       -((R2 ** 3*(R3x + ROx + delROx) - R2*(R3x + ROx + delROx)*(R1 ** 2 + (R3x + ROx + delROx) ** 2 + ROy ** 2) + (-R2 ** 2* ROy ** 2*(R1 ** 4 + (-R2 ** 2 + (R3x + ROx + delROx) ** 2 + ROy ** 2) ** 2 - 2*R1 ** 2*(R2 ** 2 + (R3x + ROx + delROx) ** 2 + ROy ** 2))) ** (1/2))/(R1* R2*((R3x + ROx + delROx) ** 2 + ROy ** 2)))) - fi0,\n",
    "            np.arctan2 ((-R1 ** 2*R2*ROy ** 2 + R2 ** 3*ROy ** 2 - (R3x + ROx + delROx)*(-R2 ** 2* ROy ** 2*((R1 - R2) ** 2 - (R3x + ROx + delROx) ** 2 - ROy ** 2)*((R1 + R2) ** 2 - (R3x + ROx + delROx) ** 2 - ROy ** 2)) ** (1/2) + R2*ROy ** 2*((R3x + ROx + delROx) ** 2 + ROy ** 2))/(R2 ** 2* ROy*((R3x + ROx + delROx) ** 2 + ROy ** 2)),\n",
    "                        (R2 ** 3*(R3x + ROx + delROx) + R2*(R3x + ROx + delROx)*(-R1 ** 2 + (R3x + ROx + delROx) ** 2 + ROy ** 2) + (-R2 ** 2* ROy ** 2*(R1 ** 4 + (-R2 ** 2 + (R3x + ROx + delROx) ** 2 + ROy ** 2) ** 2 - 2*R1 ** 2*(R2 ** 2 + (R3x + ROx + delROx) ** 2 + ROy ** 2))) ** (1/2))/(R2 ** 2*((R3x + ROx + delROx) ** 2 + ROy ** 2))) - gam0,\n",
    "            np.arctan2(( R1**3 * ROy**2 + (R3x - (ROx + delROx) + 2*ROx) * (-R1**2 * ROy**2 * ((R1 - R2)**2 - ROy**2 - (R3x - (ROx + delROx) + 2*ROx)**2) * ((R1 + R2)**2 - ROy**2 - (R3x - (ROx + delROx) + 2*ROx)**2))**(1/2) + R1 * ROy**2 * (-R2**2 + ROy**2 + (R3x - (ROx + delROx) + 2*ROx)**2))/(R1**2 * ROy * (ROy**2 + (R3x - (ROx + delROx) + 2*ROx)**2)),\n",
    "                       (-(-R1**2 * ROy**2 * ((R1 - R2)**2 - ROy**2 - (R3x - (ROx + delROx) + 2*ROx)**2) * ((R1 + R2)**2 - ROy**2 - (R3x - (ROx + delROx) + 2*ROx)**2))**(1/2) + R1 * (R3x - (ROx + delROx) + 2*ROx) * (R1**2 - R2**2 + ROy**2 + (R3x - (ROx + delROx) + 2*ROx)**2))/(R1**2 * (ROy**2 + (R3x - (ROx + delROx) + 2*ROx)**2))) - alf0,\n",
    "            np.arctan2((-R1**3 * ROy**2 - (R3x - (ROx + delROx) + 2*ROx) * (-R1**2 * ROy**2 * ((R1 - R2)**2 - ROy**2 - (R3x - (ROx + delROx) + 2*ROx)**2) * ((R1 + R2)**2 - ROy**2 - (R3x - (ROx + delROx) + 2*ROx)**2))**(1/2) + R1 * ROy**2 * (R2**2 + ROy**2 + (R3x - (ROx + delROx) + 2*ROx)**2))/(R1 * R2 * ROy * (ROy**2 + (R3x - (ROx + delROx) + 2*ROx)**2)),\n",
    "                       ((-R1**2 * ROy**2 * ((R1 - R2)**2 - ROy**2 - (R3x - (ROx + delROx) + 2*ROx)**2) * ((R1 + R2)**2 - ROy**2 - (R3x - (ROx + delROx) + 2*ROx)**2))**(1/2) + R1 * (R3x - (ROx + delROx) + 2*ROx) * (-R1**2 + R2**2 + ROy**2 + (R3x - (ROx + delROx) + 2*ROx)**2))/(R1 * R2 * (ROy**2 + (R3x - (ROx + delROx) + 2*ROx)**2))) - bet0))"
   ]
  },
  {
   "cell_type": "code",
   "execution_count": 10,
   "metadata": {},
   "outputs": [
    {
     "data": {
      "application/vnd.jupyter.widget-view+json": {
       "model_id": "9601ae2f3add4de795bbd73c2f734651",
       "version_major": 2,
       "version_minor": 0
      },
      "text/plain": [
       "interactive(children=(FloatSlider(value=0.0, description='delROx', max=1.660254037844389, min=-1.6602540378443…"
      ]
     },
     "metadata": {},
     "output_type": "display_data"
    }
   ],
   "source": [
    "'''\n",
    "The value of the maximal elongation of the midpoint of the rack.\n",
    "'''\n",
    "delROxmax = -R3x + (( R1 + R2 )**2 - ROy**2 )**(1/2) - ROx\n",
    "\n",
    "'''\n",
    "Use this slide to turn the \"steering wheel\"\n",
    "'''\n",
    "\n",
    "delfgab=interactive(delang,delROx=(-delROxmax,delROxmax,(delROxmax)/1000))\n",
    "display(delfgab)"
   ]
  },
  {
   "cell_type": "code",
   "execution_count": 11,
   "metadata": {},
   "outputs": [
    {
     "data": {
      "text/plain": [
       "-2.220192466763865"
      ]
     },
     "execution_count": 11,
     "metadata": {},
     "output_type": "execute_result"
    },
    {
     "data": {
      "image/png": "[encoded data removed]",
      "text/plain": [
       "<Figure size 432x288 with 1 Axes>"
      ]
     },
     "metadata": {
      "needs_background": "light"
     },
     "output_type": "display_data"
    }
   ],
   "source": [
    "'''\n",
    "plotting and displaying the error.\n",
    "'''\n",
    "DELROx=delfgab.kwargs[\"delROx\"]\n",
    "delfi=delfgab.result[0]\n",
    "delgam=delfgab.result[1]\n",
    "delalf=delfgab.result[2]\n",
    "delbet=delfgab.result[3]\n",
    "\n",
    "xo = ROx + DELROx\n",
    "yo = ROy\n",
    "\n",
    "x1 = R1 * np.cos(fi0 + delfi)\n",
    "y1 = R1 * np.sin(fi0 + delfi)\n",
    "x2 = xo + R3x\n",
    "y2 = yo\n",
    "\n",
    "x3 = xo - R3x\n",
    "y3 = yo\n",
    "x4 = x3 - R2 * np.cos(-(bet0 + delbet)+np.pi)\n",
    "y4 = yo - R2 * np.sin(-(bet0 + delbet)+np.pi)\n",
    "x5 = x4 + R1 * np.cos(alf0 + delalf)\n",
    "y5 = y4 - R1 * np.sin(alf0 + delalf)\n",
    "\n",
    "plt.subplot(1,1,1)\n",
    "plt.plot([0,x1,x2,xo,x3,x4,x5],[0,y1,y2,y3,yo,y4,y5]);\n",
    "\n",
    "'''\n",
    "The definition of the error function is the difference between the angles of the outer and inner wheels\n",
    "'''\n",
    "\n",
    "if delfgab.kwargs[\"delROx\"] > 0 :\n",
    "    ackermann = 180/(np.pi)*(fi0+delfi-(alf0-delalf))\n",
    "else:\n",
    "    ackermann = -180/(np.pi)*(fi0+delfi-(alf0-delalf))\n",
    "ackermann"
   ]
  },
  {
   "cell_type": "code",
   "execution_count": null,
   "metadata": {},
   "outputs": [],
   "source": []
  }
 ],
 "metadata": {
  "kernelspec": {
   "display_name": "Python 3",
   "language": "python",
   "name": "python3"
  },
  "language_info": {
   "codemirror_mode": {
    "name": "ipython",
    "version": 3
   },
   "file_extension": ".py",
   "mimetype": "text/x-python",
   "name": "python",
   "nbconvert_exporter": "python",
   "pygments_lexer": "ipython3",
   "version": "3.7.3"
  }
 },
 "nbformat": 4,
 "nbformat_minor": 2
}
